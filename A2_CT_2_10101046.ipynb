{
  "nbformat": 4,
  "nbformat_minor": 0,
  "metadata": {
    "colab": {
      "name": "A2_CT_2_10101046.ipynb",
      "provenance": [],
      "collapsed_sections": [],
      "include_colab_link": true
    },
    "kernelspec": {
      "name": "python3",
      "display_name": "Python 3"
    }
  },
  "cells": [
    {
      "cell_type": "markdown",
      "metadata": {
        "id": "view-in-github",
        "colab_type": "text"
      },
      "source": [
        "<a href=\"https://colab.research.google.com/github/KashfiaJashim/CSE-310/blob/master/A2_CT_2_10101046.ipynb\" target=\"_parent\"><img src=\"https://colab.research.google.com/assets/colab-badge.svg\" alt=\"Open In Colab\"/></a>"
      ]
    },
    {
      "cell_type": "markdown",
      "metadata": {
        "id": "9UTs6onqeuOT",
        "colab_type": "text"
      },
      "source": [
        "Ans No 1"
      ]
    },
    {
      "cell_type": "code",
      "metadata": {
        "id": "7nxY2EeTe9c1",
        "colab_type": "code",
        "colab": {
          "base_uri": "https://localhost:8080/",
          "height": 50
        },
        "outputId": "650992d9-0633-4a65-dfcf-1100f6a1c384"
      },
      "source": [
        "n = int(input())\n",
        "if n%2==0:\n",
        "  print(\"Even\")\n",
        "else:\n",
        "  print(\"Odd\")"
      ],
      "execution_count": null,
      "outputs": [
        {
          "output_type": "stream",
          "text": [
            "145\n",
            "Odd\n"
          ],
          "name": "stdout"
        }
      ]
    },
    {
      "cell_type": "markdown",
      "metadata": {
        "id": "xNo2tMQJfX9C",
        "colab_type": "text"
      },
      "source": [
        "Ans No 2"
      ]
    },
    {
      "cell_type": "code",
      "metadata": {
        "id": "KDrVSouHfZzf",
        "colab_type": "code",
        "colab": {
          "base_uri": "https://localhost:8080/",
          "height": 50
        },
        "outputId": "288f0b9e-875c-4fcb-a273-79b9904eca19"
      },
      "source": [
        "n = float(input())\n",
        "if n>=80 and n<=100:\n",
        "  print(\"A+\")\n",
        "elif n>=70 and n<=79:\n",
        "  print(\"A\")\n",
        "elif n>=60 and n<=69:\n",
        "  print(\"A-\")\n",
        "elif n>=50 and n<=59:\n",
        "  print(\"B\")\n",
        "elif n>=40 and n<=49:\n",
        "  print(\"C\")\n",
        "elif n>=33 and n<=39:\n",
        "  print(\"D\")\n",
        "else:\n",
        "  print(\"F\")"
      ],
      "execution_count": null,
      "outputs": [
        {
          "output_type": "stream",
          "text": [
            "20\n",
            "F\n"
          ],
          "name": "stdout"
        }
      ]
    },
    {
      "cell_type": "markdown",
      "metadata": {
        "id": "jzIwuMtXgvCF",
        "colab_type": "text"
      },
      "source": [
        "Ans No 3"
      ]
    },
    {
      "cell_type": "code",
      "metadata": {
        "id": "07Zqh9C3gwzV",
        "colab_type": "code",
        "colab": {
          "base_uri": "https://localhost:8080/",
          "height": 52
        },
        "outputId": "254e5aa9-fbec-418e-c6fb-a5f8fc6ed822"
      },
      "source": [
        "\n",
        "st = str(input(\"Enter the string: \"))\n",
        "st1 = st[ : 3]\n",
        "st2 = st[3 : 6]\n",
        "st3 = st[6 : 9]\n",
        "st4 = st[9 : 12]\n",
        "\n",
        "l = st4 + st2 + st3 + st1\n",
        "l\n",
        "\n",
        "\n"
      ],
      "execution_count": null,
      "outputs": [
        {
          "output_type": "stream",
          "text": [
            "Enter the string: 1234567890AB\n"
          ],
          "name": "stdout"
        },
        {
          "output_type": "execute_result",
          "data": {
            "application/vnd.google.colaboratory.intrinsic": {
              "type": "string"
            },
            "text/plain": [
              "'0AB456789123'"
            ]
          },
          "metadata": {
            "tags": []
          },
          "execution_count": 2
        }
      ]
    },
    {
      "cell_type": "markdown",
      "metadata": {
        "id": "x-MZMVuwhdNJ",
        "colab_type": "text"
      },
      "source": [
        "Ans No 4"
      ]
    },
    {
      "cell_type": "code",
      "metadata": {
        "id": "guj1ZHpxhqbh",
        "colab_type": "code",
        "colab": {
          "base_uri": "https://localhost:8080/",
          "height": 118
        },
        "outputId": "6d1aa7b1-2f95-445d-8501-a4a892717b1a"
      },
      "source": [
        "Students = {\n",
        "    1 : {\n",
        "        \"ID\" : \"1\",\n",
        "        \"First Name\" : \"Peter\",\n",
        "        \"Last Name\" : \"Lee\",\n",
        "        \"Email\" : \"plee@university.edu\",\n",
        "        \"Year of Birth\" : \"1992\"\n",
        "        },\n",
        "\n",
        "    2 : {\n",
        "        \"ID\" : \"2\",\n",
        "        \"First Name\" : \"Jonathan\",\n",
        "        \"last Name\" : \"Edwards\",\n",
        "        \"Email\" : \"jedwards@university.edu\",\n",
        "        \"Year of Birth\" : \"1994\"\n",
        "        },\n",
        "\n",
        "    3 : {\n",
        "        \"ID\" : \"3\",\n",
        "        \"First Name\" : \"Marilyn\",\n",
        "        \"last Name\" : \"Johnson\",\n",
        "        \"Email\" : \"mjohnson@university.edu\",\n",
        "        \"Year of Birth\" : \"1993\"\n",
        "        },\n",
        "\n",
        "    6 : {\n",
        "        \"ID\" : \"6\",\n",
        "        \"First Name\" : \"Joe\",\n",
        "        \"last Name\" : \"Kim\",\n",
        "        \"Email\" : \"jkim@university.edu\",\n",
        "        \"Year of Birth\" : \"1992\"\n",
        "        },\n",
        "\n",
        "    12 : {\n",
        "        \"ID\" : \"12\",\n",
        "        \"First Name\" : \"Haley\",\n",
        "        \"last Name\" : \"Martinez\",\n",
        "        \"Email\" : \"hmartinez@university.edu\",\n",
        "        \"Year of Birth\" : \"1993\"\n",
        "        }\n",
        "}\n",
        "id = int(input(\"Enter the student id: \"))\n",
        "Students[id]"
      ],
      "execution_count": null,
      "outputs": [
        {
          "output_type": "stream",
          "text": [
            "Enter the student id: 6\n"
          ],
          "name": "stdout"
        },
        {
          "output_type": "execute_result",
          "data": {
            "text/plain": [
              "{'Email': 'jkim@university.edu',\n",
              " 'First Name': 'Joe',\n",
              " 'ID': '6',\n",
              " 'Year of Birth': '1992',\n",
              " 'last Name': 'Kim'}"
            ]
          },
          "metadata": {
            "tags": []
          },
          "execution_count": 19
        }
      ]
    }
  ]
}